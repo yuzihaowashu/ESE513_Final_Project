{
 "cells": [
  {
   "cell_type": "code",
   "execution_count": 1,
   "metadata": {},
   "outputs": [
    {
     "name": "stdout",
     "output_type": "stream",
     "text": [
      "/home/research/yu.zihao/pnp/ESE513_Final_Project\n"
     ]
    }
   ],
   "source": [
    "import os\n",
    "os.chdir('/home/research/yu.zihao/pnp/ESE513_Final_Project/')\n",
    "print(os.getcwd())"
   ]
  },
  {
   "cell_type": "code",
   "execution_count": 36,
   "metadata": {},
   "outputs": [
    {
     "name": "stdout",
     "output_type": "stream",
     "text": [
      "/home/research/yu.zihao/pnp/ESE513_Final_Project/eval/unet_eval.py:36: FutureWarning: You are using `torch.load` with `weights_only=False` (the current default value), which uses the default pickle module implicitly. It is possible to construct malicious pickle data which will execute arbitrary code during unpickling (See https://github.com/pytorch/pytorch/blob/main/SECURITY.md#untrusted-models for more details). In a future release, the default value for `weights_only` will be flipped to `True`. This limits the functions that could be executed during unpickling. Arbitrary objects will no longer be allowed to be loaded via this mode unless they are explicitly allowlisted by the user via `torch.serialization.add_safe_globals`. We recommend you start setting `weights_only=True` for any use case where you don't have full control of the loaded file. Please open an issue on GitHub for any issues related to this experimental feature.\n",
      "  model.load_state_dict(torch.load('denoiser.pth', map_location=device))\n"
     ]
    }
   ],
   "source": [
    "! python eval/eval.py --working_dir /home/research/yu.zihao/pnp/ESE513_Final_Project/ \\\n",
    "          --dataset /home/research/yu.zihao/pnp/ESE513_Final_Project/dataset.zip \\\n",
    "          --denoiser_type unet \\\n",
    "          --denoiser_path /home/research/yu.zihao/pnp/ESE513_Final_Project/denoiser.pth \\\n",
    "          --kernel_size 21 \\\n",
    "          --num_picture 10 \\\n",
    "          --num_iter 5"
   ]
  },
  {
   "cell_type": "code",
   "execution_count": 47,
   "metadata": {},
   "outputs": [
    {
     "name": "stdout",
     "output_type": "stream",
     "text": [
      "/home/research/yu.zihao/pnp/ESE513_Final_Project/eval/bm3d_eval.py:60: UserWarning: To copy construct from a tensor, it is recommended to use sourceTensor.clone().detach() or sourceTensor.clone().detach().requires_grad_(True), rather than torch.tensor(sourceTensor).\n",
      "  denoised_image_tensor = torch.tensor(denoised_image_bm3d).permute(2, 0, 1).to(test_image.device) if denoised_image_bm3d.ndim == 3 else torch.tensor(denoised_image_bm3d).to(test_image.device)\n"
     ]
    }
   ],
   "source": [
    "! python eval/eval.py --working_dir /home/research/yu.zihao/pnp/ESE513_Final_Project/ \\\n",
    "          --dataset /home/research/yu.zihao/pnp/ESE513_Final_Project/dataset \\\n",
    "          --denoiser_type bm3d \\\n",
    "          --kernel_size 21 \\\n",
    "          --num_picture 10 \\\n",
    "          --num_iter 5"
   ]
  },
  {
   "cell_type": "code",
   "execution_count": 52,
   "metadata": {},
   "outputs": [
    {
     "name": "stdout",
     "output_type": "stream",
     "text": [
      "/home/research/yu.zihao/pnp/ESE513_Final_Project/eval/tv_eval.py:59: UserWarning: To copy construct from a tensor, it is recommended to use sourceTensor.clone().detach() or sourceTensor.clone().detach().requires_grad_(True), rather than torch.tensor(sourceTensor).\n",
      "  denoised_image_tensor = torch.tensor(denoised_image_bm3d).permute(2, 0, 1).to(test_image.device) if denoised_image_bm3d.ndim == 3 else torch.tensor(denoised_image_bm3d).to(test_image.device)\n"
     ]
    }
   ],
   "source": [
    "! python eval/eval.py --working_dir /home/research/yu.zihao/pnp/ESE513_Final_Project/ \\\n",
    "          --dataset /home/research/yu.zihao/pnp/ESE513_Final_Project/dataset \\\n",
    "          --denoiser_type tv \\\n",
    "          --kernel_size 21 \\\n",
    "          --num_picture 10 \\\n",
    "          --num_iter 5"
   ]
  },
  {
   "cell_type": "code",
   "execution_count": null,
   "metadata": {},
   "outputs": [],
   "source": []
  }
 ],
 "metadata": {
  "kernelspec": {
   "display_name": "Python 3 (ipykernel)",
   "language": "python",
   "name": "python3"
  },
  "language_info": {
   "codemirror_mode": {
    "name": "ipython",
    "version": 3
   },
   "file_extension": ".py",
   "mimetype": "text/x-python",
   "name": "python",
   "nbconvert_exporter": "python",
   "pygments_lexer": "ipython3",
   "version": "3.9.19"
  }
 },
 "nbformat": 4,
 "nbformat_minor": 2
}
