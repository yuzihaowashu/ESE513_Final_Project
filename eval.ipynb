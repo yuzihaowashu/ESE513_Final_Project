{
 "cells": [
  {
   "cell_type": "code",
   "execution_count": 1,
   "metadata": {},
   "outputs": [
    {
     "name": "stdout",
     "output_type": "stream",
     "text": [
      "/home/research/yu.zihao/pnp/ESE513_Final_Project\n"
     ]
    }
   ],
   "source": [
    "import os\n",
    "os.chdir('/home/research/yu.zihao/pnp/ESE513_Final_Project/')\n",
    "print(os.getcwd())"
   ]
  },
  {
   "cell_type": "code",
   "execution_count": 3,
   "metadata": {},
   "outputs": [
    {
     "name": "stdout",
     "output_type": "stream",
     "text": [
      "/home/research/yu.zihao/pnp/ESE513_Final_Project/eval/unet_eval.py:37: FutureWarning: You are using `torch.load` with `weights_only=False` (the current default value), which uses the default pickle module implicitly. It is possible to construct malicious pickle data which will execute arbitrary code during unpickling (See https://github.com/pytorch/pytorch/blob/main/SECURITY.md#untrusted-models for more details). In a future release, the default value for `weights_only` will be flipped to `True`. This limits the functions that could be executed during unpickling. Arbitrary objects will no longer be allowed to be loaded via this mode unless they are explicitly allowlisted by the user via `torch.serialization.add_safe_globals`. We recommend you start setting `weights_only=True` for any use case where you don't have full control of the loaded file. Please open an issue on GitHub for any issues related to this experimental feature.\n",
      "  model.load_state_dict(torch.load(denoiser_path, map_location=device))\n"
     ]
    }
   ],
   "source": [
    "! python eval/eval.py --working_dir /home/research/yu.zihao/pnp/ESE513_Final_Project/ \\\n",
    "          --dataset /home/research/yu.zihao/pnp/ESE513_Final_Project/dataset.zip \\\n",
    "          --pnp_type pnp_admm_least_square \\\n",
    "          --denoiser_type unet \\\n",
    "          --denoiser_path /home/research/yu.zihao/pnp/ESE513_Final_Project/denoiser.pth \\\n",
    "          --kernel_size 20 \\\n",
    "          --num_picture 3 \\\n",
    "          --num_iter 50 \\\n",
    "          --step_size 1e-2"
   ]
  },
  {
   "cell_type": "code",
   "execution_count": 3,
   "metadata": {},
   "outputs": [
    {
     "name": "stdout",
     "output_type": "stream",
     "text": [
      "/home/research/yu.zihao/pnp/ESE513_Final_Project/eval/bm3d_eval.py:62: UserWarning: To copy construct from a tensor, it is recommended to use sourceTensor.clone().detach() or sourceTensor.clone().detach().requires_grad_(True), rather than torch.tensor(sourceTensor).\n",
      "  denoised_image_tensor = torch.tensor(denoised_image_bm3d).permute(2, 0, 1).to(test_image.device) if denoised_image_bm3d.ndim == 3 else torch.tensor(denoised_image_bm3d).to(test_image.device)\n"
     ]
    }
   ],
   "source": [
    "! python eval/eval.py --working_dir /home/research/yu.zihao/pnp/ESE513_Final_Project/ \\\n",
    "          --dataset /home/research/yu.zihao/pnp/ESE513_Final_Project/dataset \\\n",
    "          --pnp_type pnp_admm_least_square \\\n",
    "          --denoiser_type bm3d \\\n",
    "          --kernel_size 21 \\\n",
    "          --num_picture 3 \\\n",
    "          --num_iter 5 \\\n",
    "          --step_size 1e-2"
   ]
  },
  {
   "cell_type": "code",
   "execution_count": 4,
   "metadata": {},
   "outputs": [
    {
     "name": "stdout",
     "output_type": "stream",
     "text": [
      "/home/research/yu.zihao/pnp/ESE513_Final_Project/eval/tv_eval.py:64: UserWarning: To copy construct from a tensor, it is recommended to use sourceTensor.clone().detach() or sourceTensor.clone().detach().requires_grad_(True), rather than torch.tensor(sourceTensor).\n",
      "  denoised_image_tensor = torch.tensor(denoised_image_bm3d).permute(2, 0, 1).to(test_image.device) if denoised_image_bm3d.ndim == 3 else torch.tensor(denoised_image_bm3d).to(test_image.device)\n"
     ]
    }
   ],
   "source": [
    "! python eval/eval.py --working_dir /home/research/yu.zihao/pnp/ESE513_Final_Project/ \\\n",
    "          --dataset /home/research/yu.zihao/pnp/ESE513_Final_Project/dataset \\\n",
    "          --pnp_type pnp_admm_least_square \\\n",
    "          --denoiser_type tv \\\n",
    "          --kernel_size 10 \\\n",
    "          --num_picture 3 \\\n",
    "          --num_iter 5 \\\n",
    "          --step_size 1e-2"
   ]
  },
  {
   "cell_type": "markdown",
   "metadata": {},
   "source": [
    "## FastDVDNet"
   ]
  },
  {
   "cell_type": "code",
   "execution_count": 8,
   "metadata": {},
   "outputs": [
    {
     "name": "stdout",
     "output_type": "stream",
     "text": [
      "Extracted 102 frames to './video_sora_frames'.\n"
     ]
    }
   ],
   "source": [
    "# video to frames\n",
    "! python extract_frames.py ./video_sora_frames ./video_test.mp4"
   ]
  },
  {
   "cell_type": "code",
   "execution_count": 10,
   "metadata": {},
   "outputs": [
    {
     "name": "stdout",
     "output_type": "stream",
     "text": [
      "/home/research/yu.zihao/pnp/ESE513_Final_Project/eval/fastdvdnet_eval.py:48: FutureWarning: You are using `torch.load` with `weights_only=False` (the current default value), which uses the default pickle module implicitly. It is possible to construct malicious pickle data which will execute arbitrary code during unpickling (See https://github.com/pytorch/pytorch/blob/main/SECURITY.md#untrusted-models for more details). In a future release, the default value for `weights_only` will be flipped to `True`. This limits the functions that could be executed during unpickling. Arbitrary objects will no longer be allowed to be loaded via this mode unless they are explicitly allowlisted by the user via `torch.serialization.add_safe_globals`. We recommend you start setting `weights_only=True` for any use case where you don't have full control of the loaded file. Please open an issue on GitHub for any issues related to this experimental feature.\n",
      "  state_temp_dict = torch.load(denoiser_path, map_location=device)\n",
      "\tOpen sequence in folder:  /home/research/yu.zihao/pnp/ESE513_Final_Project/video_sora_frames\n"
     ]
    }
   ],
   "source": [
    "! python eval/eval.py --working_dir /home/research/yu.zihao/pnp/ESE513_Final_Project/ \\\n",
    "          --dataset /home/research/yu.zihao/pnp/ESE513_Final_Project/video_sora_frames \\\n",
    "          --pnp_type pnp_admm_cg \\\n",
    "          --denoiser_type fastdvdnet \\\n",
    "          --denoiser_path /home/research/yu.zihao/pnp/ESE513_Final_Project/model_fastdvdnet.pth \\\n",
    "          --kernel_size 21 \\\n",
    "          --num_iter 5 \\\n",
    "          --step_size 1e-2\n",
    "          "
   ]
  },
  {
   "cell_type": "code",
   "execution_count": 3,
   "metadata": {},
   "outputs": [
    {
     "name": "stdout",
     "output_type": "stream",
     "text": [
      "GIF saved to './example.gif'.\n"
     ]
    }
   ],
   "source": [
    "# frames to .gif\n",
    "! python frames_to_gif.py ./eval_output_fastdvdnet_21 ./example.gif 40"
   ]
  },
  {
   "cell_type": "code",
   "execution_count": 2,
   "metadata": {},
   "outputs": [
    {
     "name": "stdout",
     "output_type": "stream",
     "text": [
      "MP4 video saved to './example.mp4'.\n"
     ]
    }
   ],
   "source": [
    "# frame to .mp4\n",
    "! python frames_to_mp4.py ./eval_output_fastdvdnet_21 ./example.mp4 --fps 30"
   ]
  },
  {
   "cell_type": "code",
   "execution_count": null,
   "metadata": {},
   "outputs": [],
   "source": []
  }
 ],
 "metadata": {
  "kernelspec": {
   "display_name": "Python 3 (ipykernel)",
   "language": "python",
   "name": "python3"
  },
  "language_info": {
   "codemirror_mode": {
    "name": "ipython",
    "version": 3
   },
   "file_extension": ".py",
   "mimetype": "text/x-python",
   "name": "python",
   "nbconvert_exporter": "python",
   "pygments_lexer": "ipython3",
   "version": "3.9.19"
  }
 },
 "nbformat": 4,
 "nbformat_minor": 2
}
